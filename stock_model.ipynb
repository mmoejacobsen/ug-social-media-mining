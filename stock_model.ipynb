{
  "nbformat": 4,
  "nbformat_minor": 0,
  "metadata": {
    "colab": {
      "provenance": [],
      "toc_visible": true,
      "authorship_tag": "ABX9TyO9ZwZ3LpQFey+rFBA+Ira0",
      "include_colab_link": true
    },
    "kernelspec": {
      "name": "python3",
      "display_name": "Python 3"
    },
    "language_info": {
      "name": "python"
    }
  },
  "cells": [
    {
      "cell_type": "markdown",
      "metadata": {
        "id": "view-in-github",
        "colab_type": "text"
      },
      "source": [
        "<a href=\"https://colab.research.google.com/github/mmoejacobsen/ug-social-media-mining/blob/main/stock_model.ipynb\" target=\"_parent\"><img src=\"https://colab.research.google.com/assets/colab-badge.svg\" alt=\"Open In Colab\"/></a>"
      ]
    },
    {
      "cell_type": "markdown",
      "source": [
        "### Imports"
      ],
      "metadata": {
        "id": "VCQZXbewdcu7"
      }
    },
    {
      "cell_type": "code",
      "source": [
        "# Import packages as needed\n",
        "import pandas as pd\n",
        "\n",
        "# from sklearn.\n",
        "import matplotlib.pyplot as plt\n",
        "import seaborn as sns"
      ],
      "metadata": {
        "id": "lZKjPmBPdlDg"
      },
      "execution_count": null,
      "outputs": []
    },
    {
      "cell_type": "markdown",
      "source": [
        "### Reading Data"
      ],
      "metadata": {
        "id": "QCxwWFVvdzIn"
      }
    },
    {
      "cell_type": "code",
      "source": [
        "# Read"
      ],
      "metadata": {
        "id": "UEYBXlT3d1Sm"
      },
      "execution_count": null,
      "outputs": []
    }
  ]
}