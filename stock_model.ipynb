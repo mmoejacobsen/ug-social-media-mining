{
  "nbformat": 4,
  "nbformat_minor": 0,
  "metadata": {
    "colab": {
      "provenance": [],
      "authorship_tag": "ABX9TyOYU07T49WGVngYvZ3ZqJMC",
      "include_colab_link": true
    },
    "kernelspec": {
      "name": "python3",
      "display_name": "Python 3"
    },
    "language_info": {
      "name": "python"
    }
  },
  "cells": [
    {
      "cell_type": "markdown",
      "metadata": {
        "id": "view-in-github",
        "colab_type": "text"
      },
      "source": [
        "<a href=\"https://colab.research.google.com/github/mmoejacobsen/ug-social-media-mining/blob/main/stock_model.ipynb\" target=\"_parent\"><img src=\"https://colab.research.google.com/assets/colab-badge.svg\" alt=\"Open In Colab\"/></a>"
      ]
    },
    {
      "cell_type": "markdown",
      "source": [
        "# Preprocessing"
      ],
      "metadata": {
        "id": "IV89pwKWfWdy"
      }
    },
    {
      "cell_type": "markdown",
      "source": [
        "### Imports"
      ],
      "metadata": {
        "id": "VCQZXbewdcu7"
      }
    },
    {
      "cell_type": "code",
      "source": [
        "# Import packages as needed\n",
        "import pandas as pd\n",
        "\n",
        "# from sklearn.\n",
        "import matplotlib.pyplot as plt\n",
        "import seaborn as sns"
      ],
      "metadata": {
        "id": "lZKjPmBPdlDg"
      },
      "execution_count": null,
      "outputs": []
    },
    {
      "cell_type": "markdown",
      "source": [
        "### Reading Data"
      ],
      "metadata": {
        "id": "QCxwWFVvdzIn"
      }
    },
    {
      "cell_type": "code",
      "source": [
        "# Read"
      ],
      "metadata": {
        "id": "UEYBXlT3d1Sm"
      },
      "execution_count": null,
      "outputs": []
    },
    {
      "cell_type": "markdown",
      "source": [
        "# Creating model"
      ],
      "metadata": {
        "id": "tmgtWSYKfMBJ"
      }
    },
    {
      "cell_type": "markdown",
      "source": [
        "### Splitting dataset"
      ],
      "metadata": {
        "id": "c7jv40n1fiYY"
      }
    },
    {
      "cell_type": "code",
      "source": [
        "#Split"
      ],
      "metadata": {
        "id": "Oy-0E65SfodV"
      },
      "execution_count": null,
      "outputs": []
    },
    {
      "cell_type": "markdown",
      "source": [
        "# Model Evaluation"
      ],
      "metadata": {
        "id": "edxG6_GzfeLC"
      }
    },
    {
      "cell_type": "markdown",
      "source": [
        "### Using Mean Absolute Error"
      ],
      "metadata": {
        "id": "6GyDt4dqfqRp"
      }
    },
    {
      "cell_type": "code",
      "source": [
        "#MEAN"
      ],
      "metadata": {
        "id": "W2ZkmOhgfv6g"
      },
      "execution_count": null,
      "outputs": []
    },
    {
      "cell_type": "markdown",
      "source": [
        "### Using etc...."
      ],
      "metadata": {
        "id": "5P7cKsoJfymy"
      }
    },
    {
      "cell_type": "code",
      "source": [
        "#etc."
      ],
      "metadata": {
        "id": "hf3ZUiw9f1zc"
      },
      "execution_count": null,
      "outputs": []
    }
  ]
}